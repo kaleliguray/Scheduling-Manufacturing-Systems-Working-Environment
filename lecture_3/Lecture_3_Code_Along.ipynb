{
  "cells": [
    {
      "cell_type": "markdown",
      "metadata": {
        "id": "w0umZvzKKmvF"
      },
      "source": [
        "# **Simple Gurobi Examples**"
      ]
    },
    {
      "cell_type": "code",
      "execution_count": 2,
      "metadata": {
        "id": "8ICB29ptJ3j4"
      },
      "outputs": [
        {
          "name": "stdout",
          "output_type": "stream",
          "text": [
            "Requirement already satisfied: gurobipy in /Users/giraykaleli/anaconda3/lib/python3.11/site-packages (11.0.1)\n"
          ]
        }
      ],
      "source": [
        "# Install the Gurobi package\n",
        "!pip install gurobipy \n",
        "\n",
        "\n",
        "\n",
        "# Import the package\n",
        "from gurobipy import *\n",
        "\n",
        "\n"
      ]
    },
    {
      "cell_type": "markdown",
      "metadata": {
        "id": "MpqjJ9AVL3QO"
      },
      "source": [
        "* The gurobipy package contains objects named Model that embed the objective function, constraints and variables.\n",
        "* The usual workflow for creating a model in Gurobi can looks as follows:\n",
        "> 1. Pre-process the data.\n",
        "  2. Create the model object.\n",
        "  3. Create the variables and add them to the model.\n",
        "  4. Create the constraints and add them to the model.\n",
        "  5. Create the objective function and add it to the model.\n",
        "  6. Optimize the model.\n",
        "  7. Output the results in the desired form.\n",
        "\n",
        "* Let us solve a small instance of a linear program (LP). First, we create a model. It can be done using the **gurobipy.Model()** fucntion."
      ]
    },
    {
      "cell_type": "markdown",
      "metadata": {
        "id": "fHJbhhLUmy-E"
      },
      "source": [
        "* **Model:**\n",
        "> ***maximize*** *x + 2y + 3z* <br>\n",
        "  ***subject to:*** <br>\n",
        "  *-x + y + z <= 20* <br>\n",
        "  *x - 3y + z <= 30* <br>\n",
        "  *x <= 40* <br>\n",
        "  *x >= 0* <br>\n",
        "  *y >= 0* <br>\n",
        "  *z >= 0*\n",
        "\n",
        "\n",
        "\n",
        "\n",
        "\n"
      ]
    },
    {
      "cell_type": "code",
      "execution_count": 3,
      "metadata": {
        "id": "CiphD8VvPaRI"
      },
      "outputs": [
        {
          "name": "stdout",
          "output_type": "stream",
          "text": [
            "Set parameter Username\n",
            "Academic license - for non-commercial use only - expires 2025-04-17\n"
          ]
        }
      ],
      "source": [
        "# Create an instance of the model object and save it in a variable\n",
        "toy_modal = Model(\"Model_1\")"
      ]
    },
    {
      "cell_type": "markdown",
      "metadata": {
        "id": "w0jOjQHAP2Ij"
      },
      "source": [
        "* In the next step we add the decision variables. Single variables can be added using the **model_Name.addVar()** function. It takes as arguments the name of the variable, its type and its lower and upper bounds."
      ]
    },
    {
      "cell_type": "code",
      "execution_count": 4,
      "metadata": {
        "id": "HnNo9jUcQTnJ"
      },
      "outputs": [],
      "source": [
        "# Create the 3 decision variables and add them to the model\n",
        "x = toy_modal.addVar(name=\"x\", vtype=GRB.CONTINUOUS, lb=0, ub=40)\n",
        "y = toy_modal.addVar(name=\"y\", vtype=GRB.CONTINUOUS, lb=0)\n",
        "z = toy_modal.addVar(name=\"z\", vtype=GRB.CONTINUOUS, lb=0)\n",
        "\n"
      ]
    },
    {
      "cell_type": "markdown",
      "metadata": {
        "id": "-bK1nODEi10Z"
      },
      "source": [
        "* Now we can add the constraints. Single constraints can be added using the **model_Name.addConstr()** function that takes an expression and the cosntraint name as arguments."
      ]
    },
    {
      "cell_type": "code",
      "execution_count": 6,
      "metadata": {
        "id": "42Znu0gBjlsg"
      },
      "outputs": [],
      "source": [
        "# Add the constraints\n",
        "c_1 = toy_modal.addConstr(-x + y + z <= 20, name=\"constraint 1\")\n",
        "c_2 = toy_modal.addConstr(x - 3*y + z <= 30, name=\"constraint 2\")"
      ]
    },
    {
      "cell_type": "markdown",
      "metadata": {
        "id": "udL74EKpkDGz"
      },
      "source": [
        "* Next, the objective function is defined using the **model.setObjective()** function. This time an expression and objective (minimize/maximize) are passed as arguments."
      ]
    },
    {
      "cell_type": "code",
      "execution_count": 7,
      "metadata": {
        "id": "NdKlKT8dknkb"
      },
      "outputs": [],
      "source": [
        "obj_function = x + 2*y + 3*z\n",
        "obj =  toy_modal.setObjective(obj_function, sense=GRB.MAXIMIZE)"
      ]
    },
    {
      "cell_type": "markdown",
      "metadata": {
        "id": "BMwjJ7A9k9Vq"
      },
      "source": [
        "* After adding decision variables, constraints and objective function, we can solve the model."
      ]
    },
    {
      "cell_type": "code",
      "execution_count": 8,
      "metadata": {
        "id": "ZWKTTS-elH2Y"
      },
      "outputs": [
        {
          "name": "stdout",
          "output_type": "stream",
          "text": [
            "Gurobi Optimizer version 11.0.1 build v11.0.1rc0 (mac64[arm] - Darwin 23.4.0 23E224)\n",
            "\n",
            "CPU model: Apple M3 Pro\n",
            "Thread count: 11 physical cores, 11 logical processors, using up to 11 threads\n",
            "\n",
            "Optimize a model with 2 rows, 3 columns and 6 nonzeros\n",
            "Model fingerprint: 0x9ebf52d1\n",
            "Coefficient statistics:\n",
            "  Matrix range     [1e+00, 3e+00]\n",
            "  Objective range  [1e+00, 3e+00]\n",
            "  Bounds range     [4e+01, 4e+01]\n",
            "  RHS range        [2e+01, 3e+01]\n",
            "Presolve time: 0.00s\n",
            "Presolved: 2 rows, 3 columns, 6 nonzeros\n",
            "\n",
            "Iteration    Objective       Primal Inf.    Dual Inf.      Time\n",
            "       0    1.4000000e+31   1.500000e+30   1.400000e+01      0s\n",
            "       2    2.0250000e+02   0.000000e+00   0.000000e+00      0s\n",
            "\n",
            "Solved in 2 iterations and 0.01 seconds (0.00 work units)\n",
            "Optimal objective  2.025000000e+02\n"
          ]
        }
      ],
      "source": [
        "# Optimize the model\n",
        "toy_modal.optimize()\n",
        "\n"
      ]
    },
    {
      "cell_type": "markdown",
      "metadata": {
        "id": "zOFLAxaoltgX"
      },
      "source": [
        "* Now, we can output the result in a formated way."
      ]
    },
    {
      "cell_type": "code",
      "execution_count": 16,
      "metadata": {
        "id": "jLFPrchbly1B"
      },
      "outputs": [
        {
          "name": "stdout",
          "output_type": "stream",
          "text": [
            "The objective function value is: 202.5\n",
            "\n",
            "x : 40.0\n",
            "y : 17.5\n",
            "z : 42.5\n"
          ]
        }
      ],
      "source": [
        "# Introduce a new way to print strings + variables\n",
        "# Print the objective function value\n",
        "print(f\"The objective function value is: {toy_modal.ObjVal}\")\n",
        "\n",
        "\n",
        "print()\n",
        "\n",
        "# Print the values of the decision variables\n",
        "for variable in toy_modal.getVars():\n",
        "    print(f\"{variable.varName} : {variable.x}\")\n",
        "\n",
        "\n"
      ]
    }
  ],
  "metadata": {
    "colab": {
      "provenance": []
    },
    "kernelspec": {
      "display_name": "Python 3",
      "name": "python3"
    },
    "language_info": {
      "codemirror_mode": {
        "name": "ipython",
        "version": 3
      },
      "file_extension": ".py",
      "mimetype": "text/x-python",
      "name": "python",
      "nbconvert_exporter": "python",
      "pygments_lexer": "ipython3",
      "version": "3.11.5"
    }
  },
  "nbformat": 4,
  "nbformat_minor": 0
}
