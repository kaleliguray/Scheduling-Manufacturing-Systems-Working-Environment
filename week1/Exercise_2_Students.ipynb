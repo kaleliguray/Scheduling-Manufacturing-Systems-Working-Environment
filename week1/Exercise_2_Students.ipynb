{
  "cells": [
    {
      "cell_type": "markdown",
      "metadata": {
        "id": "YawQKqFLlqVR"
      },
      "source": [
        "**Exercise 1:** Create a function that takes 2 numbers as inputs from the keyboard and calculates the greatest common divisor using the Euclidean Algorithm.\n",
        "> The Euclidean Algorithm:\n",
        "  1. If a = b, stop.\n",
        "  2. If a > b, replace a with a - b and go back to step 1.\n",
        "  3. If b > a, replace b with b - a and go back to step 1."
      ]
    },
    {
      "cell_type": "code",
      "execution_count": 4,
      "metadata": {
        "id": "lp4nvgMslxV7"
      },
      "outputs": [
        {
          "name": "stdout",
          "output_type": "stream",
          "text": [
            "The greatest common divisor is:  12\n"
          ]
        }
      ],
      "source": [
        "def greatest_Common_Divisor(number_1, number_2):\n",
        "  # TO DO: Define two placeholder variables a and b that will take the values\n",
        "  # of number_1 and number_2 respectively\n",
        "  a = number_1\n",
        "  b = number_2\n",
        "  # TO DO: While the numbers are not equal, replace the largest number by the\n",
        "  # difference between the larger and the smaller one. Hint: Use\n",
        "  # if/else statements within a while loop\n",
        "  while a != b:\n",
        "    if a > b:\n",
        "      a = a - b\n",
        "    else:\n",
        "      b = b - a\n",
        "\n",
        "  # TO DO: Assign the result to either a or b, as they are the same at this\n",
        "  # point\n",
        "  result = a\n",
        "  return result\n",
        "\n",
        "# TO DO: Provide the 2 numbers\n",
        "# Hint: The input from the keyboard is stored as strings, therefore, we have to\n",
        "# convert them to integers\n",
        "num1 = int(input(\"Enter the first number: \"))\n",
        "num2 = int(input(\"Enter the first number: \"))\n",
        "# TO DO: Call the function and print out the results\n",
        "result = greatest_Common_Divisor(number_1=num1, number_2=num2)\n",
        "print(\"The greatest common divisor is: \", result)"
      ]
    },
    {
      "cell_type": "markdown",
      "metadata": {
        "id": "saIq2evZmru0"
      },
      "source": [
        "**Exercise 2:** Create a 4x4 matrix and its transpose using NumPy and multiply them."
      ]
    },
    {
      "cell_type": "code",
      "execution_count": 10,
      "metadata": {
        "id": "XNqu55dTnWa3"
      },
      "outputs": [
        {
          "name": "stdout",
          "output_type": "stream",
          "text": [
            "Original Matrix:\n",
            "[[ 1  2  3  4]\n",
            " [ 5  6  7  8]\n",
            " [ 9 10 11 12]\n",
            " [13 14 15 16]]\n",
            "\n",
            "Transpose Matrix:\n",
            "[[ 1  5  9 13]\n",
            " [ 2  6 10 14]\n",
            " [ 3  7 11 15]\n",
            " [ 4  8 12 16]]\n",
            "\n",
            "Result of Multiplication:\n",
            "[[ 30  70 110 150]\n",
            " [ 70 174 278 382]\n",
            " [110 278 446 614]\n",
            " [150 382 614 846]]\n"
          ]
        }
      ],
      "source": [
        "# TO DO: Import numpy\n",
        "import numpy as np\n",
        "# TO DO: Create the 4x4 matrix\n",
        "matrix = np.array([[1, 2, 3, 4],\n",
        "                   [5, 6, 7, 8],\n",
        "                   [9, 10, 11, 12],\n",
        "                   [13, 14, 15, 16]])\n",
        "# TO DO: Create its transpose\n",
        "transpose_matrix = np.transpose(matrix)\n",
        "# TO DO: Multiply the two matrices\n",
        "result = np.dot(matrix, transpose_matrix)\n",
        "\n",
        "print(\"Original Matrix:\")\n",
        "print(matrix)\n",
        "\n",
        "print(\"\\nTranspose Matrix:\")\n",
        "print(transpose_matrix)\n",
        "\n",
        "print(\"\\nResult of Multiplication:\")\n",
        "print(result)\n"
      ]
    },
    {
      "cell_type": "markdown",
      "metadata": {
        "id": "alRdCTMimvXB"
      },
      "source": [
        "**Exercise 3:** Create a 3x3 identity matrix using NumPy zeros matrix and editing its entries using a for loop."
      ]
    },
    {
      "cell_type": "code",
      "execution_count": 2,
      "metadata": {
        "id": "de2dlR0inX7U"
      },
      "outputs": [
        {
          "name": "stdout",
          "output_type": "stream",
          "text": [
            "[[0. 0. 0.]\n",
            " [0. 0. 0.]\n",
            " [0. 0. 0.]]\n",
            "Identity Matrix:\n",
            "[[1. 0. 0.]\n",
            " [0. 1. 0.]\n",
            " [0. 0. 1.]]\n"
          ]
        }
      ],
      "source": [
        "# TO DO: Create the 3x3 zeros matrix\n",
        "import numpy as np\n",
        "matrix = np.zeros((3, 3))\n",
        "print(matrix) \n",
        "# TO DO: Edit the previously created matrix\n",
        "for i in range(3):\n",
        "    for j in range(3):\n",
        "        if i == j:\n",
        "            matrix[i, j] = 1\n",
        "\n",
        "print(\"Identity Matrix:\")\n",
        "print(matrix)           "
      ]
    },
    {
      "cell_type": "markdown",
      "metadata": {
        "id": "JYO9bDh8naSG"
      },
      "source": [
        "**Exercise 4:** Create a dataframe that will contain one column with the years from 2015 to 2023 and another column that takes Yes if the year was a leap year. **Hint:** 2016 and 2020 were leap years."
      ]
    },
    {
      "cell_type": "code",
      "execution_count": 6,
      "metadata": {
        "id": "ekrZUwVOnpu0"
      },
      "outputs": [
        {
          "name": "stdout",
          "output_type": "stream",
          "text": [
            "   Year Leap Year\n",
            "0  2015        No\n",
            "1  2016       Yes\n",
            "2  2017        No\n",
            "3  2018        No\n",
            "4  2019        No\n",
            "5  2020       Yes\n",
            "6  2021        No\n",
            "7  2022        No\n",
            "8  2023        No\n"
          ]
        }
      ],
      "source": [
        "# TO DO: Import pandas\n",
        "import pandas as pd\n",
        "\n",
        "years = list(range(2015,2024))\n",
        "\n",
        "leap_year = []\n",
        "    \n",
        "for year in years:\n",
        "    \n",
        "    if (year % 4 == 0 and year % 100 != 0) or (year % 400 == 0):\n",
        "        leap_year.append(\"Yes\")\n",
        "    else:\n",
        "        leap_year.append(\"No\")\n",
        "# TO DO: Create the dataframe\n",
        "\n",
        "data_frame = pd.DataFrame({\"Year\":years, \"Leap Year\": leap_year})\n",
        "\n",
        "print(data_frame)"
      ]
    },
    {
      "cell_type": "markdown",
      "metadata": {
        "id": "meDlxl8eoK1x"
      },
      "source": [
        "**Exercise 5:**Consider the dataframe created in the codeblock below."
      ]
    },
    {
      "cell_type": "code",
      "execution_count": 7,
      "metadata": {
        "id": "Pw0m7LTmoPm_"
      },
      "outputs": [
        {
          "name": "stdout",
          "output_type": "stream",
          "text": [
            "                      Winner     Pole Sitter     Fastest Lap\n",
            "Bahrain       Max Verstappen  Max Verstappen     Zhou Guanyu\n",
            "Saudi Arabia    Sergio Perez    Sergio Perez  Max Verstappen\n",
            "Australia     Max Verstappen  Max Verstappen    Sergio Perez\n"
          ]
        }
      ],
      "source": [
        "# Consider the dataframe below\n",
        "race_Stats = {\"Winner\": [\"Max Verstappen\", \"Sergio Perez\", \"Max Verstappen\"],\n",
        "              \"Pole Sitter\": [\"Max Verstappen\", \"Sergio Perez\", \"Max Verstappen\"],\n",
        "              \"Fastest Lap\": [\"Zhou Guanyu\", \"Max Verstappen\", \"Sergio Perez\"]}\n",
        "race_Names = [\"Bahrain\", \"Saudi Arabia\", \"Australia\"]\n",
        "\n",
        "data_Frame_Race = pd.DataFrame(race_Stats, index = race_Names)\n",
        "\n",
        "print(data_Frame_Race)"
      ]
    },
    {
      "cell_type": "markdown",
      "metadata": {
        "id": "LhjVIaFloUNj"
      },
      "source": [
        "* Filter the rows and find the following things:\n",
        "> 1. How many times did the pole sitter win the race.\n",
        "  2. How many times the winner had the fastest lap.\n",
        "  3. How many races did Max Verstappen win."
      ]
    },
    {
      "cell_type": "code",
      "execution_count": 8,
      "metadata": {
        "id": "Jk3l8iQnoVCu"
      },
      "outputs": [
        {
          "name": "stdout",
          "output_type": "stream",
          "text": [
            "Number of times the pole sitter won the race: 3\n",
            "Number of times the winner had the fastest lap: 0\n",
            "Number of races Max Verstappen won: 2\n"
          ]
        }
      ],
      "source": [
        "# TO DO: How many times did the pole sitter win the race\n",
        "pole_sitter_wins = data_Frame_Race[data_Frame_Race['Pole Sitter'] == data_Frame_Race['Winner']].shape[0]\n",
        "# TO DO: How many times did the winner have the fastest lap\n",
        "winner_fastest_lap = data_Frame_Race[data_Frame_Race['Winner'] == data_Frame_Race['Fastest Lap']].shape[0]\n",
        "# TO DO: How many races did Max Verstappen win\n",
        "max_verstappen_wins = data_Frame_Race[data_Frame_Race['Winner'] == 'Max Verstappen'].shape[0]\n",
        "\n",
        "print(\"Number of times the pole sitter won the race:\", pole_sitter_wins)\n",
        "print(\"Number of times the winner had the fastest lap:\", winner_fastest_lap)\n",
        "print(\"Number of races Max Verstappen won:\", max_verstappen_wins)"
      ]
    }
  ],
  "metadata": {
    "colab": {
      "provenance": []
    },
    "kernelspec": {
      "display_name": "Python 3",
      "name": "python3"
    },
    "language_info": {
      "codemirror_mode": {
        "name": "ipython",
        "version": 3
      },
      "file_extension": ".py",
      "mimetype": "text/x-python",
      "name": "python",
      "nbconvert_exporter": "python",
      "pygments_lexer": "ipython3",
      "version": "3.11.9"
    }
  },
  "nbformat": 4,
  "nbformat_minor": 0
}
