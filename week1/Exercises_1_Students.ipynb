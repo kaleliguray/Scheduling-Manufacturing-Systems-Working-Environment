{
  "cells": [
    {
      "cell_type": "markdown",
      "metadata": {
        "id": "sjji4BdYEnRS"
      },
      "source": [
        "**Exercise 1:** Consider a list containing the numbers from 1 to 9. Increment each number in the list by 1 and store the results in a new list."
      ]
    },
    {
      "cell_type": "code",
      "execution_count": 1,
      "metadata": {
        "id": "IKKuqCcFEpGC"
      },
      "outputs": [
        {
          "name": "stdout",
          "output_type": "stream",
          "text": [
            "[1, 2, 3, 4, 5, 6, 7, 8, 9]\n",
            "[2, 3, 4, 5, 6, 7, 8, 9, 10]\n"
          ]
        }
      ],
      "source": [
        "x = [1, 2, 3, 4, 5, 6, 7, 8, 9]\n",
        "# Solution guidelines:\n",
        "print(x)\n",
        "# TO DO: Create a new empty list to store results\n",
        "result = []\n",
        "# TO DO: Create the for loop that will increment the numbers by 1 and append the results\n",
        "for i in x:\n",
        "    result.append(i + 1)\n",
        "\n",
        "print(result)"
      ]
    },
    {
      "cell_type": "markdown",
      "metadata": {
        "id": "tTiOhP2RE0UW"
      },
      "source": [
        "**Exercise 2:** Create a program that checks whether a number is even or odd."
      ]
    },
    {
      "cell_type": "code",
      "execution_count": 5,
      "metadata": {
        "id": "EUYQbsLTE3qk"
      },
      "outputs": [
        {
          "name": "stdout",
          "output_type": "stream",
          "text": [
            "even\n"
          ]
        }
      ],
      "source": [
        "# TO DO: Create a variable that will be assigned the value of the number to be checked\n",
        "num = 12\n",
        "# TO DO: If else statement that checks whether a number is even or odd\n",
        "# Hint: Use the modulo expression 3%2 --> 1\n",
        "if num%2 == 0:\n",
        "    print(\"even\")\n",
        "else:\n",
        "    print(\"odd\")    "
      ]
    },
    {
      "cell_type": "markdown",
      "metadata": {
        "id": "XfbcnByaFGq3"
      },
      "source": [
        "**Exercise 3:** Consider a list containing the numbers from 1 to 9. Increment each number in the list by 1 and store the results in a 3x3 matrix. **Hint:** Use a 2D list."
      ]
    },
    {
      "cell_type": "code",
      "execution_count": 13,
      "metadata": {
        "id": "SPmRpoYfFKDC"
      },
      "outputs": [
        {
          "name": "stdout",
          "output_type": "stream",
          "text": [
            "[1, 2, 3, 4, 5, 6, 7, 8, 9]\n",
            "[2, 3, 4]\n",
            "[5, 6, 7]\n",
            "[8, 9, 10]\n"
          ]
        }
      ],
      "source": [
        "# Create an empty list that will store the results. Hint: This list will have\n",
        "# 3 elements in the end, which will correspond to the rows of the matrix.\n",
        "y_2D = [1,2,3,4,5,6,7,8,9]\n",
        "\n",
        "matrix = []\n",
        "\n",
        "# Each row contained in the list above will itself be a list.\n",
        "# Therefore, we should create a temporary list in which the elements of a\n",
        "# row will be stored.\n",
        "temp_List = []\n",
        "\n",
        "# For loop that will append the numbers to the lists created above.\n",
        "for num in y_2D:\n",
        "  # TO DO: Append the incremented number to the temporary list\n",
        "  # TO DO: If statement that will append the temporary list\n",
        "  # to the 2D one if the current number is in the third column and set the\n",
        "  # temporary list back to the empty list.\n",
        "  temp_List.append(num + 1)\n",
        "\n",
        "  if num % 3 == 0:\n",
        "    matrix.append(temp_List)\n",
        "\n",
        "    temp_List = []\n",
        "\n",
        "   \n",
        "\n",
        "print(y_2D)\n",
        "\n",
        "for row in matrix:\n",
        "  print(row) "
      ]
    },
    {
      "cell_type": "markdown",
      "metadata": {
        "id": "uwL9AdxVFj5t"
      },
      "source": [
        "**Exercise 4:** Create a program that asseses whether a number is prime or not."
      ]
    },
    {
      "cell_type": "code",
      "execution_count": 7,
      "metadata": {
        "id": "Ob9DTvAXFnlr"
      },
      "outputs": [
        {
          "name": "stdout",
          "output_type": "stream",
          "text": [
            "4 is not prime\n"
          ]
        }
      ],
      "source": [
        "# Create a variable which will store the value of the number\n",
        "# Feel free to change the numbers\n",
        "num = 4\n",
        "\n",
        "# Create a Boolean variable named prime that will be True if a number\n",
        "# is prime and False otherwise. Initiallize this variable to True.\n",
        "# TO DO\n",
        "prime = True\n",
        "\n",
        "# If a number is larger than 1 and can be divided without remainder\n",
        "# to any number between 1 and itself, then it is not prime\n",
        "if num > 1:\n",
        "  # Implement the logic that if a number can be divided by any nymber\n",
        "  # between 1 and itself without remainder, then it is not prime.\n",
        "  # Hint: Use a while loop.\n",
        "  # TO DO\n",
        "  i = 2\n",
        "  \n",
        "  while i < num: \n",
        "    \n",
        "    if num % i == 0:\n",
        "      prime = False\n",
        "      break\n",
        "    \n",
        "    i += 1\n",
        "# Also numbers smaller or equal to 1 do not fulfill the condition\n",
        "# of prime numbers\n",
        "else: prime = False\n",
        "\n",
        "if prime == True:\n",
        "  print(str(num) + \" is prime\")\n",
        "else: print(str(num) + \" is not prime\")"
      ]
    },
    {
      "cell_type": "markdown",
      "metadata": {
        "id": "7I9f24bIGSLI"
      },
      "source": [
        "**Exercise 5:** Extract the word \"hello\" from the following dictionaries."
      ]
    },
    {
      "cell_type": "code",
      "execution_count": 33,
      "metadata": {
        "id": "rEYGqoORGZRl"
      },
      "outputs": [
        {
          "name": "stdout",
          "output_type": "stream",
          "text": [
            "hello\n",
            "hello\n"
          ]
        }
      ],
      "source": [
        "# Dictionary 1\n",
        "d_1 = {\"k1\":{\"k2\":\"hello\"}}\n",
        "\n",
        "word_1 = d_1[\"k1\"][\"k2\"]\n",
        "print(word_1)\n",
        "# Dictionary 2\n",
        "d_2 = {\"k1\":[1,2,{\"k2\":[\"this is tricky\",{\"tough\":[1,2,[\"hello\"]]}]}]}\n",
        "word_2 = d_2[\"k1\"][2][\"k2\"][1][\"tough\"][2][0]\n",
        "print(word_2)"
      ]
    }
  ],
  "metadata": {
    "colab": {
      "provenance": []
    },
    "kernelspec": {
      "display_name": "Python 3",
      "name": "python3"
    },
    "language_info": {
      "codemirror_mode": {
        "name": "ipython",
        "version": 3
      },
      "file_extension": ".py",
      "mimetype": "text/x-python",
      "name": "python",
      "nbconvert_exporter": "python",
      "pygments_lexer": "ipython3",
      "version": "3.11.5"
    }
  },
  "nbformat": 4,
  "nbformat_minor": 0
}
